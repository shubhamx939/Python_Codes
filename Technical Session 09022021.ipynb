{
 "cells": [
  {
   "cell_type": "code",
   "execution_count": 1,
   "metadata": {},
   "outputs": [
    {
     "name": "stdout",
     "output_type": "stream",
     "text": [
      "Enter the value of float string 0.3477\n",
      "34.77 %\n"
     ]
    }
   ],
   "source": [
    "########################### PGM 1 ###################################\n",
    "\n",
    "def format_percentage(input_var):\n",
    "    input_variable = input_var\n",
    "    if(type(input_variable)==float):\n",
    "        new_value=input_variable*100\n",
    "        return new_value\n",
    "    \n",
    "str=float(input(\"Enter the value of float string \"))\n",
    "\n",
    "new_str = format_percentage(str)\n",
    "print(new_str,\"%\")"
   ]
  },
  {
   "cell_type": "code",
   "execution_count": 2,
   "metadata": {},
   "outputs": [
    {
     "name": "stdout",
     "output_type": "stream",
     "text": [
      "Enter the price of the product200\n",
      "$150\n"
     ]
    }
   ],
   "source": [
    "########################## PGM 2 ####################################\n",
    "\n",
    "def main():\n",
    "    price=int(input(\"Enter the price of the product\"))\n",
    "    \n",
    "    disc = calc_discount(price)\n",
    "    \n",
    "    formatted_currency = format_currency(disc)\n",
    "    \n",
    "    print(formatted_currency)\n",
    "    \n",
    "def calc_discount(cost):\n",
    "    before_dicsount = cost\n",
    "    \n",
    "    after_discount=before_dicsount-((before_dicsount*25)/100)\n",
    "    return after_discount\n",
    "\n",
    "def format_currency(currency):\n",
    "    current_currency = currency\n",
    "    str1 = \"$%d\"%(current_currency)\n",
    "    return str1\n",
    "\n",
    "main()\n",
    "    "
   ]
  },
  {
   "cell_type": "code",
   "execution_count": 3,
   "metadata": {},
   "outputs": [
    {
     "name": "stdout",
     "output_type": "stream",
     "text": [
      "Enter the number of players3\n",
      "Enter the scores of the individual players\n",
      "77\n",
      "12\n",
      "98\n",
      "maximum score 98\n"
     ]
    }
   ],
   "source": [
    "######################### PGM 3 #########################\n",
    "    \n",
    "num = int(input(\"Enter the number of players\"))\n",
    "\n",
    "score=[]\n",
    "\n",
    "max = 0 \n",
    "\n",
    "print(\"Enter the scores of the individual players\")\n",
    "\n",
    "for i in range(num):\n",
    "    score_val = int(input())\n",
    "    \n",
    "    score.append(score_val)\n",
    "    \n",
    "for j in score:\n",
    "    if(max<j):\n",
    "        max=j\n",
    "        \n",
    "print(\"maximum score\",max)"
   ]
  }
 ],
 "metadata": {
  "kernelspec": {
   "display_name": "Python 3",
   "language": "python",
   "name": "python3"
  },
  "language_info": {
   "codemirror_mode": {
    "name": "ipython",
    "version": 3
   },
   "file_extension": ".py",
   "mimetype": "text/x-python",
   "name": "python",
   "nbconvert_exporter": "python",
   "pygments_lexer": "ipython3",
   "version": "3.8.3"
  }
 },
 "nbformat": 4,
 "nbformat_minor": 4
}
