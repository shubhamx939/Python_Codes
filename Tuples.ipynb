{
 "cells": [
  {
   "cell_type": "markdown",
   "metadata": {},
   "source": [
    "# Tuples Problems:"
   ]
  },
  {
   "cell_type": "markdown",
   "metadata": {},
   "source": [
    "1.) Write a Python program to calculate the average value of the numbers in a given tuple of tuples.\n",
    "\n",
    "Original Tuple:\n",
    "((10, 10, 10, 12), (30, 45, 56, 45), (81, 80, 39, 32), (1, 2, 3, 4))\n",
    "Average value of the numbers of the said tuple of tuples:\n",
    "[30.5, 34.25, 27.0, 23.25]\n",
    "Original Tuple:\n",
    "((1, 1, -5), (30, -15, 56), (81, -60, -39), (-10, 2, 3))\n",
    "Average value of the numbers of the said tuple of tuples:\n",
    "[25.5, -18.0, 3.75]"
   ]
  },
  {
   "cell_type": "code",
   "execution_count": 63,
   "metadata": {},
   "outputs": [
    {
     "name": "stdout",
     "output_type": "stream",
     "text": [
      "[30.5, 34.25, 27.0, 23.25]\n"
     ]
    }
   ],
   "source": [
    "def average(tup):\n",
    "    lst = [sum(i) / len(tup) for i in zip(*tup)]\n",
    "    print(lst)\n",
    "\n",
    "A = ((10, 10, 10, 12), (30, 45, 56, 45), (81, 80, 39, 32), (1, 2, 3, 4))\n",
    "\n",
    "average(A)"
   ]
  },
  {
   "cell_type": "markdown",
   "metadata": {},
   "source": [
    "2.) Write a Python program to convert a tuple of string values to a tuple of integer values.\n",
    "Original tuple values:\n",
    "(('333', '33'), ('1416', '55'))\n",
    "New tuple values:\n",
    "((333, 33), (1416, 55))"
   ]
  },
  {
   "cell_type": "code",
   "execution_count": 64,
   "metadata": {},
   "outputs": [
    {
     "name": "stdout",
     "output_type": "stream",
     "text": [
      "((333, 33), (1416, 55))\n"
     ]
    }
   ],
   "source": [
    "def convert(tup):\n",
    "        new_tup = tuple( (int (i[0]), int (i[1]) ) for i in tup)\n",
    "        print(new_tup)\n",
    "    \n",
    "A = (('333', '33'), ('1416', '55'))\n",
    "\n",
    "convert(A)"
   ]
  },
  {
   "cell_type": "markdown",
   "metadata": {},
   "source": [
    "3.) Write a Python program to check if a specified element presents in a tuple of tuples.\n",
    "Original list:\n",
    "(('Red', 'White', 'Blue'), ('Green', 'Pink', 'Purple'), ('Orange', 'Yellow', 'Lime'))\n",
    "Check if White presenet in said tuple of tuples!\n",
    "True\n",
    "Check if White presenet in said tuple of tuples!\n",
    "True\n",
    "Check if Olive presenet in said tuple of tuples!\n",
    "False"
   ]
  },
  {
   "cell_type": "code",
   "execution_count": 65,
   "metadata": {},
   "outputs": [
    {
     "name": "stdout",
     "output_type": "stream",
     "text": [
      "TRUE\n",
      "False\n"
     ]
    }
   ],
   "source": [
    "def check(tup,elem):\n",
    "    T = 0\n",
    "    F = 0\n",
    "    for i in tup:\n",
    "        for j in i:\n",
    "            if(elem in j):\n",
    "                T = T + 1\n",
    "            else:\n",
    "                F = F + 1\n",
    "    if(T != 0):\n",
    "        print(\"TRUE\")\n",
    "    elif(F != 0):\n",
    "        print(\"False\")\n",
    "                \n",
    "                \n",
    "    \n",
    "    \n",
    "A = (('Red', 'White', 'Blue'), ('Green', 'Pink', 'Purple'), ('Orange', 'Yellow', 'Lime'))\n",
    "choice1 = \"White\"\n",
    "choice2 = \"olive\"\n",
    "\n",
    "check(A, choice1)\n",
    "\n",
    "check(A, choice2)"
   ]
  },
  {
   "cell_type": "markdown",
   "metadata": {},
   "source": [
    "4.) Write a Python program to compute element-wise sum of given tuples.\n",
    "Original lists:\n",
    "(1, 2, 3, 4)\n",
    "(3, 5, 2, 1)\n",
    "(2, 2, 3, 1)\n",
    "Element-wise sum of the said tuples:\n",
    "(6, 9, 8, 6)\n"
   ]
  },
  {
   "cell_type": "code",
   "execution_count": 66,
   "metadata": {},
   "outputs": [
    {
     "name": "stdout",
     "output_type": "stream",
     "text": [
      "(6, 9, 8, 6)\n"
     ]
    }
   ],
   "source": [
    "def addition(tup):\n",
    "    new_tup = tuple(sum(i) for i in zip(*tup))\n",
    "    print(new_tup)\n",
    "    \n",
    "A = ((1, 2, 3, 4),(3, 5, 2, 1),(2, 2, 3, 1))\n",
    "\n",
    "addition(A)"
   ]
  },
  {
   "cell_type": "markdown",
   "metadata": {},
   "source": [
    "5.) Write a Python program to compute the sum of all the elements of each tuple stored inside a list of tuples.\n",
    "Original list of tuples:\n",
    "[(1, 2), (2, 3), (3, 4)]\n",
    "Sum of all the elements of each tuple stored inside the said list of tuples:\n",
    "[3, 5, 7]\n",
    "Original list of tuples:\n",
    "[(1, 2, 6), (2, 3, -6), (3, 4), (2, 2, 2, 2)]\n",
    "Sum of all the elements of each tuple stored inside the said list of tuples:\n",
    "[9, -1, 7, 8]"
   ]
  },
  {
   "cell_type": "code",
   "execution_count": 67,
   "metadata": {},
   "outputs": [
    {
     "name": "stdout",
     "output_type": "stream",
     "text": [
      "[3, 5, 7]\n",
      "[9, -1, 7, 8]\n"
     ]
    }
   ],
   "source": [
    "def addition(lst):\n",
    "    new_lst = [sum(i) for i in list(lst)]\n",
    "    print(new_lst)\n",
    "    \n",
    "A = [(1, 2), (2, 3), (3, 4)]\n",
    "\n",
    "B = [(1, 2, 6), (2, 3, -6), (3, 4), (2, 2, 2, 2)]\n",
    "\n",
    "addition(A)\n",
    "addition(B)"
   ]
  },
  {
   "cell_type": "code",
   "execution_count": 2,
   "metadata": {},
   "outputs": [
    {
     "name": "stdout",
     "output_type": "stream",
     "text": [
      "[13, 16, 19]\n"
     ]
    }
   ],
   "source": [
    "#sum of elements of tuple column wise within a list with zip():\n",
    "\n",
    "var = [(2,3,4),(4,5,6),(7,8,9)]\n",
    "\n",
    "def addition(lst):\n",
    "    new_list = [sum(i) for i in zip(*lst)]\n",
    "    print(new_list)\n",
    "    \n",
    "addition(var)"
   ]
  },
  {
   "cell_type": "code",
   "execution_count": 23,
   "metadata": {},
   "outputs": [
    {
     "name": "stdout",
     "output_type": "stream",
     "text": [
      "[13, 16, 19]\n"
     ]
    }
   ],
   "source": [
    "#sum of elements of tuple column wise within a list without zip():\n",
    "\n",
    "var = [(2,3,4),(4,5,6),(7,8,9)]\n",
    "\n",
    "def addition(lst):\n",
    "    res = []\n",
    "    for i in range(len(lst)):\n",
    "        total = 0\n",
    "        for j in lst:\n",
    "            total = total +j[i]\n",
    "        res.append(total)\n",
    "    print(res)\n",
    "    \n",
    "addition(var)"
   ]
  },
  {
   "cell_type": "code",
   "execution_count": null,
   "metadata": {},
   "outputs": [],
   "source": []
  }
 ],
 "metadata": {
  "kernelspec": {
   "display_name": "Python 3",
   "language": "python",
   "name": "python3"
  },
  "language_info": {
   "codemirror_mode": {
    "name": "ipython",
    "version": 3
   },
   "file_extension": ".py",
   "mimetype": "text/x-python",
   "name": "python",
   "nbconvert_exporter": "python",
   "pygments_lexer": "ipython3",
   "version": "3.8.3"
  }
 },
 "nbformat": 4,
 "nbformat_minor": 4
}
