{
 "cells": [
  {
   "cell_type": "markdown",
   "metadata": {},
   "source": [
    "# Sets Problems:"
   ]
  },
  {
   "cell_type": "markdown",
   "metadata": {},
   "source": [
    "1.) Write a Python program to remove an item from a set if it is present in the set.\n",
    "\n"
   ]
  },
  {
   "cell_type": "code",
   "execution_count": 7,
   "metadata": {},
   "outputs": [
    {
     "name": "stdout",
     "output_type": "stream",
     "text": [
      "Original Set {70, 40, 10, 80, 50, 20, 25, 60, 30}\n",
      "\n",
      "Element Deleted 25\n",
      "{70, 40, 10, 80, 50, 20, 60, 30}\n"
     ]
    }
   ],
   "source": [
    "def remover(sets, elem):\n",
    "    print(\"Original Set\", sets)\n",
    "    if(elem in sets):\n",
    "        sets.remove(elem)\n",
    "        print(\"\\nElement Deleted\", elem)\n",
    "    print(sets)\n",
    "    \n",
    "    \n",
    "A = {10,20,25,30,40,50,60,70,80}\n",
    "choice = 25\n",
    "\n",
    "remover(A,choice)"
   ]
  },
  {
   "cell_type": "markdown",
   "metadata": {},
   "source": [
    "2.) Write a Python program to create an intersection of sets."
   ]
  },
  {
   "cell_type": "code",
   "execution_count": 10,
   "metadata": {},
   "outputs": [
    {
     "name": "stdout",
     "output_type": "stream",
     "text": [
      "{40, 30}\n"
     ]
    }
   ],
   "source": [
    "def intersection(set1,set2):\n",
    "    set3 = set1.intersection(set2)\n",
    "    print(set3)\n",
    "    \n",
    "    \n",
    "A = {10,20,30,40}\n",
    "\n",
    "B = {30,40,50,60}\n",
    "\n",
    "intersection(A,B)"
   ]
  },
  {
   "cell_type": "markdown",
   "metadata": {},
   "source": [
    "3.) Write a Python program to create a union of sets."
   ]
  },
  {
   "cell_type": "code",
   "execution_count": 11,
   "metadata": {},
   "outputs": [
    {
     "name": "stdout",
     "output_type": "stream",
     "text": [
      "{40, 10, 50, 20, 60, 30}\n"
     ]
    }
   ],
   "source": [
    "def union(set1,set2):\n",
    "    set3 = set1.union(set2)\n",
    "    print(set3)\n",
    "    \n",
    "A = {10,20,30,40}\n",
    "\n",
    "B = {30,40,50,60}\n",
    "\n",
    "union(A,B)"
   ]
  },
  {
   "cell_type": "markdown",
   "metadata": {},
   "source": [
    "4.) Write a Python program to create set difference."
   ]
  },
  {
   "cell_type": "code",
   "execution_count": 12,
   "metadata": {},
   "outputs": [
    {
     "name": "stdout",
     "output_type": "stream",
     "text": [
      "{10, 20}\n"
     ]
    }
   ],
   "source": [
    "def difference(set1,set2):\n",
    "    set3 = set1.difference(set2)\n",
    "    print(set3)\n",
    "    \n",
    "A = {10,20,30,40}\n",
    "\n",
    "B = {30,40,50,60}\n",
    "\n",
    "difference(A,B)"
   ]
  },
  {
   "cell_type": "markdown",
   "metadata": {},
   "source": [
    "5.) Write a Python program to check if a set is a subset of another set."
   ]
  },
  {
   "cell_type": "code",
   "execution_count": 14,
   "metadata": {},
   "outputs": [
    {
     "name": "stdout",
     "output_type": "stream",
     "text": [
      "True\n"
     ]
    }
   ],
   "source": [
    "def subset(set1,set2):\n",
    "    print(set2.issubset(set1))\n",
    "    \n",
    "A = {10,20,30,40,50}\n",
    "\n",
    "B = {20,50}\n",
    "\n",
    "subset(A,B)"
   ]
  },
  {
   "cell_type": "markdown",
   "metadata": {},
   "source": [
    "6.) Write a Python program to find the elements in a given set that are not in another set"
   ]
  },
  {
   "cell_type": "code",
   "execution_count": 17,
   "metadata": {},
   "outputs": [
    {
     "name": "stdout",
     "output_type": "stream",
     "text": [
      "{40, 10, 30}\n"
     ]
    }
   ],
   "source": [
    "def subset(set1,set2):\n",
    "    set3 = set1.symmetric_difference(set2)\n",
    "    print(set3)\n",
    "    \n",
    "A = {10,20,30,40,50}\n",
    "\n",
    "B = {20,50}\n",
    "\n",
    "subset(A,B)"
   ]
  }
 ],
 "metadata": {
  "kernelspec": {
   "display_name": "Python 3",
   "language": "python",
   "name": "python3"
  },
  "language_info": {
   "codemirror_mode": {
    "name": "ipython",
    "version": 3
   },
   "file_extension": ".py",
   "mimetype": "text/x-python",
   "name": "python",
   "nbconvert_exporter": "python",
   "pygments_lexer": "ipython3",
   "version": "3.8.3"
  }
 },
 "nbformat": 4,
 "nbformat_minor": 4
}
