{
 "cells": [
  {
   "cell_type": "code",
   "execution_count": 2,
   "metadata": {},
   "outputs": [
    {
     "name": "stdout",
     "output_type": "stream",
     "text": [
      "Enter the no of strings u want to input\n",
      "5\n",
      "Enter the words\n",
      "shubham\n",
      "shubham\n",
      "anurag\n",
      "anurag\n",
      "rahul\n",
      "shubham ==> 2\n",
      "anurag ==> 2\n",
      "rahul ==> 1\n"
     ]
    }
   ],
   "source": [
    "###### 1.) Write a Python program to find the duplicate words and their number of occurrences in a string?\n",
    "\n",
    "str_list=[]\n",
    "print(\"Enter the no of strings u want to input\")\n",
    "choice=int(input())\n",
    "\n",
    "print(\"Enter the words\")\n",
    "for i in range(choice):\n",
    "    words=input()\n",
    "    str_list.append(words)\n",
    "\n",
    "freq = {} \n",
    "\n",
    "for i in str_list: \n",
    "    if (i in freq): \n",
    "        freq[i] += 1\n",
    "        \n",
    "    else: \n",
    "        freq[i] = 1\n",
    "\n",
    "for key, value in freq.items(): \n",
    "    print (key,\"==>\", value) "
   ]
  },
  {
   "cell_type": "code",
   "execution_count": 9,
   "metadata": {},
   "outputs": [
    {
     "name": "stdout",
     "output_type": "stream",
     "text": [
      "Enter the string u want to input\n",
      "write a python program to count the number of words in a string\n",
      "13\n"
     ]
    }
   ],
   "source": [
    "###### 2) Write a Python program to count the number of words in a string?\n",
    "\n",
    "str_list=[]\n",
    "print(\"Enter the string u want to input\")\n",
    "str_list=input()\n",
    "\n",
    "count=1\n",
    "\n",
    "for i in str_list:\n",
    "    if(i == \" \"):\n",
    "       count=count+1\n",
    "\n",
    "print(count)"
   ]
  },
  {
   "cell_type": "code",
   "execution_count": 20,
   "metadata": {},
   "outputs": [
    {
     "name": "stdout",
     "output_type": "stream",
     "text": [
      "Enter the string u want to input\n",
      "enter the string u want to input\n",
      "Enter the character u want to check\n",
      "t\n",
      "t ==> 6\n"
     ]
    }
   ],
   "source": [
    "####### 3) Write a Python program to count the total number of occurrences of a given character in a string ?\n",
    "\n",
    "str_list=[]\n",
    "print(\"Enter the string u want to input\")\n",
    "str_list=input()\n",
    "\n",
    "print(\"Enter the character u want to check\")\n",
    "char=input()\n",
    "\n",
    "\n",
    "freq = {} \n",
    "\n",
    "for i in str_list: \n",
    "    if(i != \" \"):\n",
    "        if (i in freq): \n",
    "            freq[i] += 1\n",
    "        \n",
    "        else: \n",
    "            freq[i] = 1\n",
    "\n",
    "for key, value in freq.items():\n",
    "    if(key==char):\n",
    "        print (key,\"==>\", value)"
   ]
  },
  {
   "cell_type": "code",
   "execution_count": 18,
   "metadata": {},
   "outputs": [
    {
     "name": "stdout",
     "output_type": "stream",
     "text": [
      "Enter the string u want to input\n",
      "enter the list\n",
      "tsil eht retne\n"
     ]
    }
   ],
   "source": [
    "##### 4) Write a Python program to reverse a string?\n",
    "\n",
    "str_list=[]\n",
    "print(\"Enter the string u want to input\")\n",
    "str_list=input()\n",
    "    \n",
    "print(str_list[::-1])"
   ]
  },
  {
   "cell_type": "code",
   "execution_count": 19,
   "metadata": {},
   "outputs": [
    {
     "name": "stdout",
     "output_type": "stream",
     "text": [
      "Enter the string u want to input\n",
      "enter the string u want to input\n",
      "e ==> 3\n",
      "n ==> 4\n",
      "t ==> 6\n",
      "r ==> 2\n",
      "h ==> 1\n",
      "s ==> 1\n",
      "i ==> 2\n",
      "g ==> 1\n",
      "u ==> 2\n",
      "w ==> 1\n",
      "a ==> 1\n",
      "o ==> 1\n",
      "p ==> 1\n"
     ]
    }
   ],
   "source": [
    "###### 5) Write a Python program to count the number of occurrences of each character in a string?\n",
    "\n",
    "str_list=[]\n",
    "print(\"Enter the string u want to input\")\n",
    "str_list=input()\n",
    "\n",
    "\n",
    "freq = {} \n",
    "\n",
    "for i in str_list: \n",
    "    if(i != \" \"):\n",
    "        if (i in freq): \n",
    "            freq[i] += 1\n",
    "        \n",
    "        else: \n",
    "            freq[i] = 1\n",
    "\n",
    "for key, value in freq.items(): \n",
    "    print (key,\"==>\", value)"
   ]
  },
  {
   "cell_type": "code",
   "execution_count": 3,
   "metadata": {},
   "outputs": [
    {
     "name": "stdout",
     "output_type": "stream",
     "text": [
      "Enter the string u want to input\n",
      "enter the strings\n",
      "enterthestrings"
     ]
    }
   ],
   "source": [
    "####### 6) Write a Python program to remove all white spaces from a string?\n",
    "\n",
    "str_list=[]\n",
    "print(\"Enter the string u want to input\")\n",
    "str_list=input()\n",
    "\n",
    "for i in str_list:\n",
    "    if(i!= \" \"):\n",
    "        print(i, end=\"\")\n",
    "        "
   ]
  },
  {
   "cell_type": "code",
   "execution_count": 21,
   "metadata": {},
   "outputs": [
    {
     "name": "stdout",
     "output_type": "stream",
     "text": [
      "Enter the string u want to input\n",
      "sushmita\n",
      "s "
     ]
    }
   ],
   "source": [
    "###### 7) Write a Python program to find duplicate characters in a string?\n",
    "\n",
    "str_list=[]\n",
    "print(\"Enter the string u want to input\")\n",
    "str_list=input()\n",
    "\n",
    "\n",
    "freq = {} \n",
    "\n",
    "for i in str_list: \n",
    "    if(i != \" \"):\n",
    "        if (i in freq): \n",
    "            freq[i] += 1\n",
    "        \n",
    "        else: \n",
    "            freq[i] = 1\n",
    "\n",
    "for key,value in freq.items():\n",
    "    if(value>1):\n",
    "        print (key, end=\" \")"
   ]
  },
  {
   "cell_type": "code",
   "execution_count": 3,
   "metadata": {},
   "outputs": [
    {
     "name": "stdout",
     "output_type": "stream",
     "text": [
      "10 <class 'int'>\n",
      "10 <class 'str'>\n"
     ]
    }
   ],
   "source": [
    "###### 8) How do you convert string to integer and integer to string in Python?\n",
    "\n",
    "num = 10\n",
    "\n",
    "print(num, type(num))\n",
    "\n",
    "str1=str(\"10\")\n",
    "\n",
    "print(str1, type(str1))\n",
    "\n",
    "\n"
   ]
  },
  {
   "cell_type": "code",
   "execution_count": 3,
   "metadata": {},
   "outputs": [
    {
     "name": "stdout",
     "output_type": "stream",
     "text": [
      "Enter the String\n",
      "Pen%ago^ Sp@ce\n",
      "upper case %age is: 15.384615384615385\n",
      "lower case %age is: 61.53846153846154\n",
      "digits %age is: 0.0\n",
      "special character %age is: 23.076923076923077\n"
     ]
    }
   ],
   "source": [
    "###### 9) Write a Python program to find the percentage of uppercase letters, \n",
    "#lowercase letters, digits and special characters in a given string?\n",
    "\n",
    "str=[]\n",
    "print(\"Enter the String\")\n",
    "str=input()\n",
    "\n",
    "count=0\n",
    "\n",
    "ucount=0\n",
    "lcount=0\n",
    "dcount=0\n",
    "scount=0\n",
    "\n",
    "for i in str:\n",
    "    if(i != \" \"):\n",
    "        count=count+1\n",
    "        asciivalue=ord(i)\n",
    "        if(asciivalue >=65 and asciivalue <= 90):\n",
    "            ucount=ucount+1\n",
    "        elif(asciivalue >=97 and asciivalue <= 122):\n",
    "            lcount=lcount+1\n",
    "        elif(asciivalue >=48 and asciivalue <= 57):\n",
    "            dcount=dcount+1\n",
    "        else:\n",
    "            scount=scount+1\n",
    "\n",
    "upercent=(ucount/count)*100\n",
    "lpercent=(lcount/count)*100\n",
    "dpercent=(dcount/count)*100\n",
    "spercent=(scount/count)*100\n",
    "\n",
    "print(\"upper case %age is:\", upercent)\n",
    "print(\"lower case %age is:\", lpercent)\n",
    "print(\"digits %age is:\", dpercent)\n",
    "print(\"special character %age is:\", spercent)"
   ]
  },
  {
   "cell_type": "code",
   "execution_count": 1,
   "metadata": {},
   "outputs": [
    {
     "name": "stdout",
     "output_type": "stream",
     "text": [
      "Enter the string u want to input\n",
      "my name is shubham\n",
      "0 ====> m\n",
      "1 ====> y\n",
      "2 ====>  \n",
      "3 ====> n\n",
      "4 ====> a\n",
      "5 ====> m\n",
      "6 ====> e\n",
      "7 ====>  \n",
      "8 ====> i\n",
      "9 ====> s\n",
      "10 ====>  \n",
      "11 ====> s\n",
      "12 ====> h\n",
      "13 ====> u\n",
      "14 ====> b\n",
      "15 ====> h\n",
      "16 ====> a\n",
      "17 ====> m\n"
     ]
    }
   ],
   "source": [
    "###### 10) How to Get Index Of All Character in Strings In Python ? (USING LIST)\n",
    "\n",
    "str_list=[]\n",
    "print(\"Enter the string u want to input\")\n",
    "str_list=input()\n",
    "\n",
    "for index,char in enumerate(str_list):\n",
    "    print(index, \"====>\", char)"
   ]
  },
  {
   "cell_type": "code",
   "execution_count": 13,
   "metadata": {},
   "outputs": [
    {
     "name": "stdout",
     "output_type": "stream",
     "text": [
      "Enter the string u want to input\n",
      "sana attar\n",
      "0 ===>>> s\n",
      "1 ===>>> a\n",
      "2 ===>>> n\n",
      "3 ===>>> a\n",
      "4 ===>>>  \n",
      "5 ===>>> a\n",
      "6 ===>>> t\n",
      "7 ===>>> t\n",
      "8 ===>>> a\n",
      "9 ===>>> r\n"
     ]
    }
   ],
   "source": [
    "###### 10) How to Get Index Of All Character in Strings In Python ? (WITHOUT USING LIST)\n",
    "\n",
    "print(\"Enter the string u want to input\")\n",
    "str_list=input()\n",
    "\n",
    "for index,value in enumerate(str_list):\n",
    "    print(index, \"===>>>\",value)"
   ]
  },
  {
   "cell_type": "code",
   "execution_count": null,
   "metadata": {},
   "outputs": [],
   "source": []
  }
 ],
 "metadata": {
  "kernelspec": {
   "display_name": "Python 3",
   "language": "python",
   "name": "python3"
  },
  "language_info": {
   "codemirror_mode": {
    "name": "ipython",
    "version": 3
   },
   "file_extension": ".py",
   "mimetype": "text/x-python",
   "name": "python",
   "nbconvert_exporter": "python",
   "pygments_lexer": "ipython3",
   "version": "3.8.3"
  }
 },
 "nbformat": 4,
 "nbformat_minor": 4
}
