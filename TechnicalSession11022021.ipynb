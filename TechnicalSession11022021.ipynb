{
 "cells": [
  {
   "cell_type": "code",
   "execution_count": 1,
   "metadata": {},
   "outputs": [
    {
     "name": "stdout",
     "output_type": "stream",
     "text": [
      "Enter the no of elements\n",
      "5\n",
      "Enter the elements\n",
      "-42\n",
      "-10\n",
      "56\n",
      "-12\n",
      "50\n",
      "-42\n",
      "-10\n",
      "-12\n"
     ]
    }
   ],
   "source": [
    "####### 1.) Write a Python Code to print all negative elements in an List.\n",
    "\n",
    "num = []\n",
    "\n",
    "print(\"Enter the no of elements\")\n",
    "choice=int(input())\n",
    "\n",
    "print(\"Enter the elements\")\n",
    "\n",
    "for i in range(choice):\n",
    "    lst=int(input())\n",
    "    num.append(lst)\n",
    "\n",
    "for j in num:\n",
    "    if(j<0):\n",
    "        print(j)"
   ]
  },
  {
   "cell_type": "code",
   "execution_count": 2,
   "metadata": {},
   "outputs": [
    {
     "name": "stdout",
     "output_type": "stream",
     "text": [
      "Enter the no of elements\n",
      "5\n",
      "Enter the elements\n",
      "10\n",
      "20\n",
      "30\n",
      "40\n",
      "50\n",
      "150\n"
     ]
    }
   ],
   "source": [
    "###### 2.) Write a Python Code to find sum of all List elements.\n",
    "\n",
    "sum = 0\n",
    "\n",
    "num = []\n",
    "\n",
    "print(\"Enter the no of elements\")\n",
    "choice=int(input())\n",
    "\n",
    "print(\"Enter the elements\")\n",
    "\n",
    "for i in range(choice):\n",
    "    lst=int(input())\n",
    "    num.append(lst)\n",
    "\n",
    "for j in num:\n",
    "    sum = sum + j\n",
    "    \n",
    "print(sum)"
   ]
  },
  {
   "cell_type": "code",
   "execution_count": 7,
   "metadata": {},
   "outputs": [
    {
     "name": "stdout",
     "output_type": "stream",
     "text": [
      "Enter the no of elements\n",
      "5\n",
      "Enter the elements\n",
      "1\n",
      "2\n",
      "3\n",
      "4\n",
      "5\n",
      "min 1\n",
      "max 5\n"
     ]
    }
   ],
   "source": [
    "###### 3.) Write a Python Code to find maximum and minimum element in an List.\n",
    "\n",
    "num = []\n",
    "\n",
    "print(\"Enter the no of elements\")\n",
    "choice=int(input())\n",
    "\n",
    "print(\"Enter the elements\")\n",
    "\n",
    "for i in range(choice):\n",
    "    lst=int(input())\n",
    "    num.append(lst)\n",
    "    \n",
    "min=num[0]\n",
    "max=num[0]\n",
    "\n",
    "for x in num:\n",
    "    if(min>x):\n",
    "        min=x\n",
    "    elif(max<x):\n",
    "        max=x\n",
    "\n",
    "print(\"min\",min)\n",
    "\n",
    "print(\"max\",max)"
   ]
  },
  {
   "cell_type": "code",
   "execution_count": 13,
   "metadata": {},
   "outputs": [
    {
     "name": "stdout",
     "output_type": "stream",
     "text": [
      "Enter the no of elements\n",
      "5\n",
      "Enter the elements\n",
      "12\n",
      "23\n",
      "45\n",
      "11\n",
      "57\n",
      "2nd max element 45\n"
     ]
    }
   ],
   "source": [
    "###### 4.) Write a Python Code to find second largest element in an List.\n",
    "\n",
    "num = []\n",
    "\n",
    "print(\"Enter the no of elements\")\n",
    "choice=int(input())\n",
    "\n",
    "print(\"Enter the elements\")\n",
    "\n",
    "for i in range(choice):\n",
    "    lst=int(input())\n",
    "    num.append(lst)\n",
    "\n",
    "max=num[0]\n",
    "count=[]\n",
    "\n",
    "for x in num:\n",
    "    if(max<x):\n",
    "        max=x\n",
    "        count.append(max)\n",
    "        \n",
    "print(\"2nd max element\",count[-2])\n"
   ]
  },
  {
   "cell_type": "code",
   "execution_count": 7,
   "metadata": {},
   "outputs": [
    {
     "name": "stdout",
     "output_type": "stream",
     "text": [
      "Enter the no of elements\n",
      "4\n",
      "Enter the elements\n",
      "12\n",
      "18\n",
      "16\n",
      "13\n",
      "Odd count: 1\n",
      "Even count 3\n"
     ]
    }
   ],
   "source": [
    "###### 5.) Write a Python Code to count total number of even and odd elements in an List.\n",
    "\n",
    "num = []\n",
    "\n",
    "print(\"Enter the no of elements\")\n",
    "choice=int(input())\n",
    "\n",
    "print(\"Enter the elements\")\n",
    "\n",
    "for i in range(choice):\n",
    "    lst=int(input())\n",
    "    num.append(lst)\n",
    "    \n",
    "even_count=0\n",
    "odd_count=0\n",
    "    \n",
    "for x in num:\n",
    "    if(x%2 == 0):\n",
    "        even_count=even_count+1\n",
    "    else:\n",
    "        odd_count=odd_count+1\n",
    "        \n",
    "print(\"Odd count:\",odd_count)\n",
    "print(\"Even count\",even_count)\n",
    "        "
   ]
  },
  {
   "cell_type": "code",
   "execution_count": 9,
   "metadata": {},
   "outputs": [
    {
     "name": "stdout",
     "output_type": "stream",
     "text": [
      "Enter the no of elements\n",
      "5\n",
      "Enter the elements\n",
      "-12\n",
      "-46\n",
      "13\n",
      "78\n",
      "45\n",
      "-VE number count: 2\n"
     ]
    }
   ],
   "source": [
    "###### 6.) Write a Python Code to count total number of negative elements in an List.\n",
    "\n",
    "num = []\n",
    "\n",
    "print(\"Enter the no of elements\")\n",
    "choice=int(input())\n",
    "\n",
    "print(\"Enter the elements\")\n",
    "\n",
    "for i in range(choice):\n",
    "    lst=int(input())\n",
    "    num.append(lst)\n",
    "    \n",
    "count=0\n",
    "\n",
    "for j in num:\n",
    "    if(j<0):\n",
    "        count=count+1\n",
    "\n",
    "print(\"-VE number count:\",count)"
   ]
  },
  {
   "cell_type": "code",
   "execution_count": 10,
   "metadata": {},
   "outputs": [
    {
     "name": "stdout",
     "output_type": "stream",
     "text": [
      "Enter the no of elements\n",
      "5\n",
      "Enter the elements\n",
      "45\n",
      "56\n",
      "67\n",
      "78\n",
      "89\n",
      "[45, 56, 67, 78, 89]\n"
     ]
    }
   ],
   "source": [
    "####### 7.) Write a Python Code to copy all elements from an List to another List.\n",
    "\n",
    "num = []\n",
    "\n",
    "print(\"Enter the no of elements\")\n",
    "choice=int(input())\n",
    "\n",
    "print(\"Enter the elements\")\n",
    "\n",
    "for i in range(choice):\n",
    "    lst=int(input())\n",
    "    num.append(lst)\n",
    "\n",
    "lst2=[]\n",
    "\n",
    "for i in num:\n",
    "    lst2.append(i)\n",
    "    \n",
    "print(lst2)"
   ]
  },
  {
   "cell_type": "code",
   "execution_count": 18,
   "metadata": {},
   "outputs": [
    {
     "name": "stdout",
     "output_type": "stream",
     "text": [
      "Enter the no of elements\n",
      "5\n",
      "Enter the elements\n",
      "1\n",
      "2\n",
      "2\n",
      "3\n",
      "4\n",
      "[1, 2, 3, 4]\n"
     ]
    }
   ],
   "source": [
    "####### 8.) Write a Python program to remove duplicates from a list.\n",
    "\n",
    "num = []\n",
    "\n",
    "print(\"Enter the no of elements\")\n",
    "choice=int(input())\n",
    "\n",
    "print(\"Enter the elements\")\n",
    "\n",
    "for i in range(choice):\n",
    "    lst=int(input())\n",
    "    num.append(lst)\n",
    "\n",
    "res=[]\n",
    "\n",
    "for j in num:\n",
    "    if j not in res:\n",
    "        res.append(j)\n",
    "\n",
    "print(res)"
   ]
  },
  {
   "cell_type": "code",
   "execution_count": 8,
   "metadata": {},
   "outputs": [
    {
     "name": "stdout",
     "output_type": "stream",
     "text": [
      "Enter the no of elements\n",
      "5\n",
      "Enter the elements\n",
      "shivam\n",
      "shubham\n",
      "abhishek\n",
      "ritesh\n",
      "rahul\n",
      "The longest word in the list is: abhishek\n"
     ]
    }
   ],
   "source": [
    "###### 9.) Write a Python program to find the list of words that are longer than n from a given list of words.\n",
    "\n",
    "words = []\n",
    "\n",
    "print(\"Enter the no of elements\")\n",
    "choice=int(input())\n",
    "\n",
    "print(\"Enter the elements\")\n",
    "\n",
    "for i in range(choice):\n",
    "    elem=input()\n",
    "    words.append(elem)\n",
    "\n",
    "\n",
    "largestWord=\" \"\n",
    "\n",
    "for i in words:\n",
    "    if (len(largestWord)<len(i)):\n",
    "        largestWord=i\n",
    "print (\"The longest word in the list is:\", largestWord)"
   ]
  },
  {
   "cell_type": "code",
   "execution_count": 19,
   "metadata": {},
   "outputs": [
    {
     "name": "stdout",
     "output_type": "stream",
     "text": [
      "Both are Circular List\n"
     ]
    }
   ],
   "source": [
    "####### 10.) Write a python program to check whether two lists are circularly identical.\n",
    "\n",
    "list1 = [10,20,30,40,50,40,30,20,10] \n",
    "list2 = [50,40,30,20,10,10,20,30,40,] \n",
    "\n",
    "\n",
    "list3 = list1 * 2\n",
    "#print(list3)\n",
    "\n",
    "for i in range(0, len(list1)): \n",
    "    length = 0\n",
    "        \n",
    "    for j in range(i, i + len(list1)): \n",
    "        if list2[length]== list3[j]: \n",
    "            length=length+1\n",
    "        else: \n",
    "            break\n",
    "            \n",
    "  \n",
    "    if length == len(list1): \n",
    "        print(\"Both are Circular List\")\n",
    "    \n",
    "\n",
    "\n",
    "\n",
    "\n"
   ]
  },
  {
   "cell_type": "code",
   "execution_count": 24,
   "metadata": {},
   "outputs": [
    {
     "name": "stdout",
     "output_type": "stream",
     "text": [
      "1 ==> 1\n",
      "2 ==> 4\n",
      "3 ==> 3\n",
      "4 ==> 2\n",
      "5 ==> 3\n",
      "6 ==> 2\n",
      "8 ==> 1\n",
      "9 ==> 2\n",
      "7 ==> 2\n",
      "11 ==> 1\n",
      "10 ==> 1\n"
     ]
    }
   ],
   "source": [
    "###### 11.) Write a Python program to get the frequency of the elements in a list.\n",
    "\n",
    "list=[1,2,2,2,3,4,5,3,6,8,9,7,11,10,5,4,3,2,9,7,5,6]\n",
    "\n",
    "freq = {} \n",
    "\n",
    "for i in list: \n",
    "    if (i in freq): \n",
    "        freq[i] += 1\n",
    "    else: \n",
    "        freq[i] = 1\n",
    "\n",
    "for key, value in freq.items(): \n",
    "    print (key,\"==>\", value)\n",
    "\n",
    "\n"
   ]
  },
  {
   "cell_type": "code",
   "execution_count": 28,
   "metadata": {},
   "outputs": [
    {
     "name": "stdout",
     "output_type": "stream",
     "text": [
      "{80, 90, 70}\n"
     ]
    }
   ],
   "source": [
    "####### 12.) Write a Python program to find common items from two lists\n",
    "\n",
    "list1=[10,20,30,40,50,60,70,80,90,100]\n",
    "list2=[11,22,33,44,55,66,70,80,90]\n",
    "\n",
    "print(set(list1) & set(list2))"
   ]
  },
  {
   "cell_type": "code",
   "execution_count": null,
   "metadata": {},
   "outputs": [],
   "source": []
  }
 ],
 "metadata": {
  "kernelspec": {
   "display_name": "Python 3",
   "language": "python",
   "name": "python3"
  },
  "language_info": {
   "codemirror_mode": {
    "name": "ipython",
    "version": 3
   },
   "file_extension": ".py",
   "mimetype": "text/x-python",
   "name": "python",
   "nbconvert_exporter": "python",
   "pygments_lexer": "ipython3",
   "version": "3.8.3"
  }
 },
 "nbformat": 4,
 "nbformat_minor": 4
}
