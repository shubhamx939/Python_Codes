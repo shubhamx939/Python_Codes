{
 "cells": [
  {
   "cell_type": "markdown",
   "metadata": {},
   "source": [
    "1). Second Maximum\n",
    "    The marks of Ranu are given in N subjects and you have to tell him the second maximum marks he has got. Marks may or may not duplicate Print the second maximum marks Ranu has got.\n",
    "    Note: 1). Solve using appropriate inbuilt Function\n",
    "\t  2). Solve without using any inbuilt in function\n",
    "\t\n",
    "    Input Format:\n",
    "\n",
    "\tThe first line of input consist of number of subjects, N.\n",
    "\tThe second line of input consist of N separated marks.\n",
    "\t\n",
    "    *Sample TestCase *\n",
    "\n",
    "\tinput\n",
    "\n",
    "\t5\n",
    "\t3 9 9 5 4\n",
    "\n",
    "\tOutput\n",
    "\n",
    "\t5"
   ]
  },
  {
   "cell_type": "code",
   "execution_count": 61,
   "metadata": {},
   "outputs": [
    {
     "name": "stdout",
     "output_type": "stream",
     "text": [
      "Number of subjects:\n",
      "None5\n",
      "3 5 9 9 4\n",
      "2nd max element 5\n"
     ]
    }
   ],
   "source": [
    "def second_maximum(lst):\n",
    "    n = len(lst)\n",
    "    max = 0\n",
    "    if(lst[0] > lst[1]):\n",
    "        max = lst[0]\n",
    "        sec_max = lst[1]\n",
    "    \n",
    "    for i in range(2, n):\n",
    "        if(lst[i] > max):\n",
    "            sec_max = max\n",
    "            max = lst[i]\n",
    "            \n",
    "        elif (lst[i] > sec_max and lst[i] != max):\n",
    "            sec_max = lst[i]\n",
    "        \n",
    "    print(\"2nd max element\",sec_max)\n",
    "    \n",
    "    \n",
    "N = int(input(print(\"Number of subjects:\")))\n",
    "marks = list(input())\n",
    "\n",
    "second_maximum(marks)\n"
   ]
  },
  {
   "cell_type": "markdown",
   "metadata": {},
   "source": [
    "2). Class Record\n",
    "\tYou are given a dataset of N students belonging to the same class.\n",
    "\tThe data contains name of the student followed by marks they scored in five subjects which are Physics, Chemsistry, Maths, English, Hindi.\n",
    "\tYour task is find the average marks of the class for each individual subject.\n",
    "\n",
    "\tOutput Format\n",
    "\tYou have to print average marks upto two decimal places for each subject followed by a space.\n",
    "\n",
    "\tSample Testcase:\n",
    "\tinput:\n",
    "\t\t2\n",
    "\t\tarpit 100 75 40 56 53\n",
    "\t\tanushka 100 100 76 100 100\n",
    "\n",
    "\tOutput\n",
    "\t\t100.00 87.50 58.00 78.00 76.50\n"
   ]
  },
  {
   "cell_type": "code",
   "execution_count": 5,
   "metadata": {},
   "outputs": [
    {
     "name": "stdout",
     "output_type": "stream",
     "text": [
      "[100.0, 87.5, 58.0, 78.0, 76.5]\n"
     ]
    }
   ],
   "source": [
    "def average(dict1,dict2):\n",
    "    avg_list = []\n",
    "    for key1,value1 in dict1.items():\n",
    "        for key2,value2 in dict2.items():\n",
    "            if(key1 == key2):\n",
    "                if(type(value1) == int):\n",
    "                    sum = value1 + value2\n",
    "                    avg = sum / 2\n",
    "                    avg_list.append(avg)\n",
    "    print(avg_list)\n",
    "                \n",
    "\n",
    "stud1 = {\"Name\" : \"Arpit\",\n",
    "         \"Physics\" : 100,\n",
    "         \"Chemistry\" : 75,\n",
    "         \"Maths\" : 40,\n",
    "         \"English\" : 56,\n",
    "         \"Hindi\" : 53 }\n",
    "\n",
    "stud2 = {\"Name\" : \"Anushka\",\n",
    "         \"Physics\" : 100,\n",
    "         \"Chemistry\" : 100,\n",
    "         \"Maths\" : 76,\n",
    "         \"English\" : 100,\n",
    "         \"Hindi\" : 100 }\n",
    "\n",
    "average(stud1,stud2)"
   ]
  },
  {
   "cell_type": "markdown",
   "metadata": {},
   "source": [
    "3). Second Highest\n",
    "\tThere are a total N students present in today's class. You are given student names and their respective height (in cms). You have to find names of all the second highest students (according to their heights). If there are multiple students , print each name on new line Print name of all the students having second highest height in alphabetical order.\n",
    "\tInput Format\n",
    "\tFirst line will contain an Integer N, denoting the number of students. Next 2 * N lines contains description of each student. first line contains name of the student and second line contains height of the student. Sample TestCase\n",
    "\n",
    "\tInput:\n",
    "\t\t4\n",
    "\t\tsaurabh\n",
    "\t\t102\n",
    "\t\tarpit\n",
    "\t\t120\n",
    "\t\taditya\n",
    "\t\t102\n",
    "\t\tvarun\n",
    "\t\t101\n",
    "\n",
    "\tOutput\n",
    "\n",
    "\t\taditya\n",
    "\t\tsaurabh\n"
   ]
  },
  {
   "cell_type": "code",
   "execution_count": null,
   "metadata": {},
   "outputs": [],
   "source": []
  }
 ],
 "metadata": {
  "kernelspec": {
   "display_name": "Python 3",
   "language": "python",
   "name": "python3"
  },
  "language_info": {
   "codemirror_mode": {
    "name": "ipython",
    "version": 3
   },
   "file_extension": ".py",
   "mimetype": "text/x-python",
   "name": "python",
   "nbconvert_exporter": "python",
   "pygments_lexer": "ipython3",
   "version": "3.8.3"
  }
 },
 "nbformat": 4,
 "nbformat_minor": 4
}
