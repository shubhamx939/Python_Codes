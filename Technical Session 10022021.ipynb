{
 "cells": [
  {
   "cell_type": "markdown",
   "metadata": {},
   "source": [
    "# If else problems: "
   ]
  },
  {
   "cell_type": "code",
   "execution_count": 3,
   "metadata": {},
   "outputs": [
    {
     "name": "stdout",
     "output_type": "stream",
     "text": [
      "Enter the Length\n",
      "55\n",
      "Enter the Bredth\n",
      "55\n",
      "Its a Square\n"
     ]
    }
   ],
   "source": [
    "####### 1===> Take values of length and breadth of a rectangle from user and check if it is square or not.\n",
    "\n",
    "print(\"Enter the Length\")\n",
    "len=int(input())\n",
    "\n",
    "print(\"Enter the Bredth\")\n",
    "bre=int(input())\n",
    "\n",
    "if(len==bre):\n",
    "    print(\"Its a Square\")\n",
    "else:\n",
    "    print(\"Its not a Square \")"
   ]
  },
  {
   "cell_type": "code",
   "execution_count": 2,
   "metadata": {},
   "outputs": [
    {
     "name": "stdout",
     "output_type": "stream",
     "text": [
      "Enter the 1st number\n",
      "12\n",
      "Enter the 2nd number\n",
      "89\n",
      "2nd number is greater\n"
     ]
    }
   ],
   "source": [
    "####### 2====> Take two int values from user and print greatest among them.\n",
    "\n",
    "print(\"Enter the 1st number\")\n",
    "num1=int(input())\n",
    "\n",
    "print(\"Enter the 2nd number\")\n",
    "num2=int(input())\n",
    "\n",
    "if(num1>num2):\n",
    "    print(\"1st number is greater\")\n",
    "else:\n",
    "    print(\"2nd number is greater\")"
   ]
  },
  {
   "cell_type": "code",
   "execution_count": 10,
   "metadata": {},
   "outputs": [
    {
     "name": "stdout",
     "output_type": "stream",
     "text": [
      "Enter the quantity .... where 1 unit=₹100\n",
      "14\n",
      "Discounted price is: 1260.0\n"
     ]
    }
   ],
   "source": [
    "###### 3====> A shop will give discount of 10% if the cost of purchased quantity is more than 1000. \n",
    "#Ask user for quantity Suppose, one unit will cost 100. Judge and print total cost for user.\n",
    "\n",
    "\n",
    "print(\"Enter the quantity .... where 1 unit=₹100\")\n",
    "quant=int(input())\n",
    "\n",
    "if(quant<=10):\n",
    "    price=100*quant\n",
    "    print(\"Price is:\",price)\n",
    "else:\n",
    "    price=100*quant\n",
    "    disc=price-(0.1*price)\n",
    "    print(\"Discounted price is:\",disc)\n",
    "\n",
    "\n"
   ]
  },
  {
   "cell_type": "code",
   "execution_count": 14,
   "metadata": {},
   "outputs": [
    {
     "name": "stdout",
     "output_type": "stream",
     "text": [
      "Enter the Salary\n",
      "10000\n",
      "Enter the no of years served\n",
      "6\n",
      "U ll get a bonus of ₹ 500.0\n"
     ]
    }
   ],
   "source": [
    "###### 4=====> A company decided to give bonus of 5% to employee if his/her year of service is more than 5 years.\n",
    "#Ask user for their salary and year of service and print the net bonus amount.\n",
    "\n",
    "print(\"Enter the Salary\")\n",
    "sal=int(input())\n",
    "\n",
    "print(\"Enter the no of years served\")\n",
    "years=int(input())\n",
    "\n",
    "if(years>5):\n",
    "    bonus=0.05*sal\n",
    "    print(\"U ll get a bonus of ₹\",bonus)\n",
    "    \n",
    "else:\n",
    "    print(\"No bonus for u\")\n"
   ]
  },
  {
   "cell_type": "code",
   "execution_count": 8,
   "metadata": {},
   "outputs": [
    {
     "name": "stdout",
     "output_type": "stream",
     "text": [
      "Enter the marks\n",
      "33\n",
      "E-Grade\n"
     ]
    }
   ],
   "source": [
    "####### 5=====> A school has following rules for grading system:\n",
    "#a. Below 25 - F\n",
    "#b. 25 to 45 - E\n",
    "#c. 45 to 50 - D\n",
    "#d. 50 to 60 - C\n",
    "#e. 60 to 80 - B\n",
    "#f. Above 80 - A\n",
    "#Ask user to enter marks and print the corresponding grade.\n",
    "\n",
    "print(\"Enter the marks\")\n",
    "marks=int(input())\n",
    "\n",
    "if(marks>80):\n",
    "    print(\"A-Grade\")\n",
    "    \n",
    "elif(marks>60 and marks<=80):\n",
    "    print(\"B-Grade\")\n",
    "\n",
    "elif(marks>50 and marks<=60):\n",
    "    print(\"C-Grade\")\n",
    "\n",
    "elif(marks>45 and marks<=50):\n",
    "    print(\"D-Grade\")\n",
    "    \n",
    "elif(marks>25 and marks<=45):\n",
    "    print(\"E-Grade\")\n",
    "else:\n",
    "    print(\"F-Grade\")"
   ]
  },
  {
   "cell_type": "code",
   "execution_count": 17,
   "metadata": {},
   "outputs": [
    {
     "name": "stdout",
     "output_type": "stream",
     "text": [
      "Enter the ages of 3 people\n",
      "52\n",
      "12\n",
      "99\n",
      "Maximum age is: 99\n",
      "Minimum age is: 12\n"
     ]
    }
   ],
   "source": [
    "##### 6====> Take input of age of 3 people by user and determine oldest and youngest among them.\n",
    "\n",
    "print(\"Enter the ages of 3 people\")\n",
    "age1=int(input())\n",
    "age2=int(input())\n",
    "age3=int(input())\n",
    "\n",
    "if(age1>age2 and age1>age3):\n",
    "    print(\"Maximum age is:\",age1)\n",
    "\n",
    "elif(age2>age1 and age2>age3):\n",
    "    print(\"Maximum age is:\",age2)\n",
    "\n",
    "elif(age3>age1 and age3>age2):\n",
    "    print(\"Maximum age is:\",age3)\n",
    "\n",
    "if(age1<age2 and age1<age3):\n",
    "    print(\"Minimum age is:\",age1)\n",
    "\n",
    "elif(age2<age1 and age2<age3):\n",
    "    print(\"Minimum age is:\",age2)\n",
    "\n",
    "elif(age3<age1 and age3<age2):\n",
    "    print(\"Minimum age is:\",age3)"
   ]
  },
  {
   "cell_type": "code",
   "execution_count": 21,
   "metadata": {},
   "outputs": [
    {
     "name": "stdout",
     "output_type": "stream",
     "text": [
      "Enter the number\n",
      "-62\n",
      "62\n"
     ]
    }
   ],
   "source": [
    "####### 7=====> Write a program to print absolute vlaue of a number entered by user. E.g.-\n",
    "#INPUT: 1        OUTPUT: 1\n",
    "#INPUT: -1        OUTPUT: 1\n",
    "\n",
    "print(\"Enter the number\")\n",
    "num=int(input())\n",
    "\n",
    "if(num>0):\n",
    "    print(num)\n",
    "else:\n",
    "    num=num-(2*num)\n",
    "    print(num)\n"
   ]
  },
  {
   "cell_type": "code",
   "execution_count": 2,
   "metadata": {},
   "outputs": [
    {
     "name": "stdout",
     "output_type": "stream",
     "text": [
      "Enter the no of classes held\n",
      "100\n",
      "Enter the no of classes attended\n",
      "78\n",
      "Attendance %age is : 78.0\n",
      "You are eligible for attending exam\n"
     ]
    }
   ],
   "source": [
    "###### 8=====> A student will not be allowed to sit in exam if his/her attendence is less than 75%.\n",
    "#Take following input from user\n",
    "#Number of classes held\n",
    "#Number of classes attended.\n",
    "#And print\n",
    "#percentage of class attended\n",
    "#Is student is allowed to sit in exam or not.\n",
    "\n",
    "print(\"Enter the no of classes held\")\n",
    "no_of_classes=int(input())\n",
    "\n",
    "print(\"Enter the no of classes attended\")\n",
    "attended_classes=int(input())\n",
    "\n",
    "percent=(attended_classes/no_of_classes)*100\n",
    "\n",
    "print(\"Attendance %age is :\",percent)\n",
    "\n",
    "if(percent>75):\n",
    "    print(\"You are eligible for attending exam\")\n",
    "else:\n",
    "    print(\"You are not eligible for attending exam\")"
   ]
  },
  {
   "cell_type": "code",
   "execution_count": 2,
   "metadata": {},
   "outputs": [
    {
     "name": "stdout",
     "output_type": "stream",
     "text": [
      "Enter the no of classes held\n",
      "100\n",
      "Enter the no of classes attended\n",
      "69\n",
      "Attendance %age is : 69.0\n",
      "You are not eligible for attending exam\n",
      "Enter Y if u have any Medical cause\n",
      "y\n",
      "You are eligible for exams\n"
     ]
    }
   ],
   "source": [
    "##### 9=====>Modify the above question to allow student to sit if he/she has medical cause. \n",
    "#Ask user if he/she has medical cause or not ( 'Y' or 'N' ) and print accordingly.\n",
    "\n",
    "print(\"Enter the no of classes held\")\n",
    "no_of_classes=int(input())\n",
    "\n",
    "print(\"Enter the no of classes attended\")\n",
    "attended_classes=int(input())\n",
    "\n",
    "percent=(attended_classes/no_of_classes)*100\n",
    "\n",
    "print(\"Attendance %age is :\",percent)\n",
    "\n",
    "if(percent>75):\n",
    "    print(\"You are eligible for attending exam\")\n",
    "else:\n",
    "    print(\"You are not eligible for attending exam\")\n",
    "    print(\"Enter Y if u have any Medical cause\")\n",
    "    cause=input()\n",
    "    \n",
    "    if(cause==\"Y\" or cause==\"y\"):\n",
    "        print(\"You are eligible for exams\")\n",
    "    else:\n",
    "        print(\"You are not eligible for attending exam\")"
   ]
  },
  {
   "cell_type": "code",
   "execution_count": 7,
   "metadata": {},
   "outputs": [
    {
     "name": "stdout",
     "output_type": "stream",
     "text": [
      "True\n",
      "False\n",
      "True\n",
      "True\n",
      "True\n"
     ]
    }
   ],
   "source": [
    "##### 10=====> \n",
    "\n",
    "x = 2\n",
    "y = 5\n",
    "z = 0\n",
    "\n",
    "if(x == 2):\n",
    "    print(\"True\")\n",
    "if(x != 5):\n",
    "    print(\"False\")\n",
    "if(x != 5 and y >= 5):\n",
    "    print(\"True\")\n",
    "if(z != 0 or x == 2):\n",
    "    print(\"True\")\n",
    "if((y < 10)):\n",
    "    print(\"True\")"
   ]
  },
  {
   "cell_type": "code",
   "execution_count": 9,
   "metadata": {},
   "outputs": [
    {
     "name": "stdout",
     "output_type": "stream",
     "text": [
      "Enter three numbers\n",
      "89\n",
      "45\n",
      "96\n",
      "Maximum num is: 96\n"
     ]
    }
   ],
   "source": [
    "##### 11====> How to find the greatest amoung three numbers?\n",
    "\n",
    "print(\"Enter three numbers\")\n",
    "num1=int(input())\n",
    "num2=int(input())\n",
    "num3=int(input())\n",
    "if(num1>num2 and num1>num3):\n",
    "    print(\"Maximum num is:\",num1)\n",
    "\n",
    "elif(num2>num1 and num2>num3):\n",
    "    print(\"Maximum num is:\",num2)\n",
    "\n",
    "elif(num3>num1 and num3>num2):\n",
    "    print(\"Maximum num is:\",num3)\n"
   ]
  },
  {
   "cell_type": "code",
   "execution_count": 2,
   "metadata": {},
   "outputs": [
    {
     "name": "stdout",
     "output_type": "stream",
     "text": [
      "Enter three numbers\n",
      "11\n",
      "45\n",
      "82\n",
      "Minimum num is: 11\n"
     ]
    }
   ],
   "source": [
    "##### 12=====> How to find the smallest amoung three numbers?\n",
    "\n",
    "print(\"Enter three numbers\")\n",
    "num1=int(input())\n",
    "num2=int(input())\n",
    "num3=int(input())\n",
    "if(num1<num2 and num1<num3):\n",
    "    print(\"Minimum num is:\",num1)\n",
    "\n",
    "elif(num2<num1 and num2<num3):\n",
    "    print(\"Minimum num is:\",num2)\n",
    "\n",
    "elif(num3<num1 and num3<num2):\n",
    "    print(\"Minimum num is:\",num3)\n"
   ]
  },
  {
   "cell_type": "markdown",
   "metadata": {},
   "source": [
    "# Loop Problems:"
   ]
  },
  {
   "cell_type": "code",
   "execution_count": 5,
   "metadata": {},
   "outputs": [
    {
     "name": "stdout",
     "output_type": "stream",
     "text": [
      "210\n",
      "420\n"
     ]
    }
   ],
   "source": [
    "##### 1===> print the sum and product from 1 to 20\n",
    "sum=0\n",
    "pro=1\n",
    "for i in range(1,21):\n",
    "    sum=sum+i\n",
    "    pro=i*(i+1)\n",
    "\n",
    "print(sum)\n",
    "print(pro)"
   ]
  },
  {
   "cell_type": "code",
   "execution_count": 24,
   "metadata": {},
   "outputs": [
    {
     "name": "stdout",
     "output_type": "stream",
     "text": [
      "2\n",
      "3\n",
      "5\n",
      "7\n",
      "11\n",
      "13\n",
      "17\n",
      "19\n"
     ]
    }
   ],
   "source": [
    "###### 2=====> prime numbers between 1 to 20\n",
    "\n",
    "for i in range (2, 21):\n",
    "    count = 0\n",
    "    for j in range(2, (i//2 + 1)):\n",
    "        if(i % j == 0):\n",
    "            count = count + 1\n",
    "            break\n",
    "    if (count == 0 and i != 1):\n",
    "        print(i)"
   ]
  },
  {
   "cell_type": "code",
   "execution_count": 27,
   "metadata": {},
   "outputs": [
    {
     "name": "stdout",
     "output_type": "stream",
     "text": [
      "2\n",
      "4\n",
      "6\n",
      "8\n",
      "10\n",
      "12\n",
      "14\n",
      "16\n",
      "18\n"
     ]
    }
   ],
   "source": [
    "###### 3=====> print even numbers between 1 and 20:\n",
    "\n",
    "for i in range(1,20):\n",
    "    if(i%2)==0:\n",
    "        print(i)"
   ]
  },
  {
   "cell_type": "code",
   "execution_count": 28,
   "metadata": {},
   "outputs": [
    {
     "name": "stdout",
     "output_type": "stream",
     "text": [
      "10.5\n"
     ]
    }
   ],
   "source": [
    "##### 4=====> print average of numbers from 1 to 20\n",
    "\n",
    "sum=0\n",
    "\n",
    "for i in range(1,21):\n",
    "    sum=sum+i\n",
    "\n",
    "avg=sum/20\n",
    "print(avg)"
   ]
  },
  {
   "cell_type": "code",
   "execution_count": 38,
   "metadata": {},
   "outputs": [
    {
     "name": "stdout",
     "output_type": "stream",
     "text": [
      "2\n",
      "3\n",
      "4\n",
      "5\n",
      "6\n",
      "8\n",
      "9\n",
      "10\n",
      "12\n",
      "14\n",
      "15\n",
      "16\n",
      "18\n",
      "20\n"
     ]
    }
   ],
   "source": [
    "##### 5=====> for numbers from 1 to 20\n",
    "#check if the number is divisible by 2,3 or 5\n",
    "\n",
    "num=0\n",
    "for i in range(1,21):\n",
    "    num=i\n",
    "    if(num%2==0):\n",
    "        print(i)\n",
    "    elif(num%3==0):\n",
    "        print(i)\n",
    "    elif(num%5==0):\n",
    "        print(i)\n",
    "    "
   ]
  },
  {
   "cell_type": "code",
   "execution_count": 56,
   "metadata": {},
   "outputs": [
    {
     "name": "stdout",
     "output_type": "stream",
     "text": [
      "Enter a number\n",
      "123456789\n",
      "987654321\n"
     ]
    }
   ],
   "source": [
    "###### 6====> reverse a number\n",
    "\n",
    "print(\"Enter a number\")  \n",
    "num = int(input())\n",
    "rev = 0    \n",
    "while(num > 0):    \n",
    "    rem = num % 10    \n",
    "    rev = (rev *10) + rem   \n",
    "    num = num //10    \n",
    "     \n",
    "print(rev) "
   ]
  },
  {
   "cell_type": "code",
   "execution_count": null,
   "metadata": {},
   "outputs": [],
   "source": []
  }
 ],
 "metadata": {
  "kernelspec": {
   "display_name": "Python 3",
   "language": "python",
   "name": "python3"
  },
  "language_info": {
   "codemirror_mode": {
    "name": "ipython",
    "version": 3
   },
   "file_extension": ".py",
   "mimetype": "text/x-python",
   "name": "python",
   "nbconvert_exporter": "python",
   "pygments_lexer": "ipython3",
   "version": "3.8.3"
  }
 },
 "nbformat": 4,
 "nbformat_minor": 4
}
