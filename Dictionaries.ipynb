{
 "cells": [
  {
   "cell_type": "markdown",
   "metadata": {},
   "source": [
    "# Dictionaries Problems:"
   ]
  },
  {
   "cell_type": "markdown",
   "metadata": {},
   "source": [
    "1.) take user input and fill the key as Interger and values as String and then create the dictionary?"
   ]
  },
  {
   "cell_type": "code",
   "execution_count": 9,
   "metadata": {},
   "outputs": [
    {
     "name": "stdout",
     "output_type": "stream",
     "text": [
      "Enter the number to be stored in Dictionary\n",
      "None12\n",
      "12 ===>>> 12\n",
      "Type of Key: <class 'int'>\n",
      "Type of Value: <class 'str'>\n"
     ]
    }
   ],
   "source": [
    "def create_dict(num):\n",
    "    dict1 = {num : str(num)}\n",
    "    for index,data in dict1.items():\n",
    "        print(index,\"===>>>\",data)\n",
    "        print(\"Type of Key:\",type(index))\n",
    "        print(\"Type of Value:\",type(data))\n",
    "    \n",
    "A = int(input(print(\"Enter the number to be stored in Dictionary\")))\n",
    "create_dict(A)"
   ]
  },
  {
   "cell_type": "markdown",
   "metadata": {},
   "source": [
    "2.) How to reverse a dictionary?"
   ]
  },
  {
   "cell_type": "code",
   "execution_count": 16,
   "metadata": {},
   "outputs": [
    {
     "name": "stdout",
     "output_type": "stream",
     "text": [
      "{'City': 'New Delhi', 'Phn No': 9353281674, 'Id': 101, 'Name': 'Shubham'}\n"
     ]
    }
   ],
   "source": [
    "def rev(dict1):\n",
    "    res = dict(reversed(list(dict1.items())))\n",
    "    print(res)\n",
    "    \n",
    "A = {\"Name\" : \"Shubham\",\n",
    "    \"Id\" : 101,\n",
    "    \"Phn No\" : 9353281674,\n",
    "    \"City\" : \"New Delhi\"}\n",
    "\n",
    "rev(A)"
   ]
  },
  {
   "cell_type": "markdown",
   "metadata": {},
   "source": [
    "3.) How to delete a key from a dictionary?"
   ]
  },
  {
   "cell_type": "code",
   "execution_count": 19,
   "metadata": {},
   "outputs": [
    {
     "name": "stdout",
     "output_type": "stream",
     "text": [
      "Before Deletion {'Name': 'Shubham', 'Id': 101, 'Phn No': 9353281674, 'City': 'New Delhi'}\n",
      "After Deletion {'Name': 'Shubham', 'Id': 101, 'City': 'New Delhi'}\n"
     ]
    }
   ],
   "source": [
    "def delete(dict1, key):\n",
    "    print(\"Before Deletion\", dict1)\n",
    "    del dict1[key]\n",
    "    print(\"After Deletion\",dict1)\n",
    "    \n",
    "A = {\"Name\" : \"Shubham\",\n",
    "    \"Id\" : 101,\n",
    "    \"Phn No\" : 9353281674,\n",
    "    \"City\" : \"New Delhi\"}\n",
    "\n",
    "key = \"Phn No\"\n",
    "\n",
    "delete(A,key)"
   ]
  },
  {
   "cell_type": "markdown",
   "metadata": {},
   "source": [
    "4.) How to add the key if and only if it is not present inside the dictionary ?"
   ]
  },
  {
   "cell_type": "code",
   "execution_count": 15,
   "metadata": {},
   "outputs": [
    {
     "name": "stdout",
     "output_type": "stream",
     "text": [
      "Before {'Name': 'Shubham', 'Id': '101', 'Phn No': '9353281674', 'City': 'New Delhi'}\n",
      "\n",
      "After {'Name': 'Shubham', 'Id': '101', 'Phn No': '9353281674', 'City': 'New Delhi', 'Dept': None}\n"
     ]
    }
   ],
   "source": [
    "def add(dict1, index):\n",
    "    print(\"Before\",dict1)\n",
    "    if index not in dict1.keys():\n",
    "        dict1[index] = dict1.get(index)\n",
    "    print(\"\\nAfter\",dict1)\n",
    "    \n",
    "A = {\"Name\" : \"Shubham\",\n",
    "    \"Id\" : \"101\",\n",
    "    \"Phn No\" : \"9353281674\",\n",
    "    \"City\" : \"New Delhi\"}\n",
    "\n",
    "dept = \"Dept\"\n",
    "\n",
    "add(A,dept)"
   ]
  },
  {
   "cell_type": "markdown",
   "metadata": {},
   "source": [
    "5) How do you add key-value pairs to dictionary?"
   ]
  },
  {
   "cell_type": "code",
   "execution_count": 13,
   "metadata": {},
   "outputs": [
    {
     "name": "stdout",
     "output_type": "stream",
     "text": [
      "Before {'Name': 'Shubham', 'Id': '101', 'Phn No': '9353281674', 'City': 'New Delhi'}\n",
      "\n",
      "After {'Name': 'Shubham', 'Id': '101', 'Phn No': '9353281674', 'City': 'New Delhi', 'Dept': 'CSE'}\n"
     ]
    }
   ],
   "source": [
    "def add(dict1, key1, value1):\n",
    "    print(\"Before\",dict1)\n",
    "    dict1[key1] = dict1.get(key1,value1)\n",
    "    print(\"\\nAfter\",dict1)\n",
    "    \n",
    "A = {\"Name\" : \"Shubham\",\n",
    "    \"Id\" : \"101\",\n",
    "    \"Phn No\" : \"9353281674\",\n",
    "    \"City\" : \"New Delhi\"}\n",
    "\n",
    "key = \"Dept\"\n",
    "value = \"CSE\"\n",
    "\n",
    "add(A,key,value)"
   ]
  },
  {
   "cell_type": "markdown",
   "metadata": {},
   "source": [
    "6) How do you add given key-value pair to dictionary if and only if it is not present in the dictionary?"
   ]
  },
  {
   "cell_type": "code",
   "execution_count": 14,
   "metadata": {},
   "outputs": [
    {
     "name": "stdout",
     "output_type": "stream",
     "text": [
      "Before {'Name': 'Shubham', 'Id': '101', 'Phn No': '9353281674', 'City': 'New Delhi'}\n",
      "\n",
      "After {'Name': 'Shubham', 'Id': '101', 'Phn No': '9353281674', 'City': 'New Delhi', 'Dept': 'CSE'}\n"
     ]
    }
   ],
   "source": [
    "def add(dict1, key1, value1):\n",
    "    print(\"Before\",dict1)\n",
    "    if key1 not in dict1:\n",
    "        dict1[key1] = dict1.get(key1,value1)\n",
    "    print(\"\\nAfter\",dict1)\n",
    "    \n",
    "A = {\"Name\" : \"Shubham\",\n",
    "    \"Id\" : \"101\",\n",
    "    \"Phn No\" : \"9353281674\",\n",
    "    \"City\" : \"New Delhi\"}\n",
    "\n",
    "key = \"Dept\"\n",
    "value = \"CSE\"\n",
    "\n",
    "add(A,key,value)"
   ]
  },
  {
   "cell_type": "markdown",
   "metadata": {},
   "source": [
    "7) How do you retrieve a value associated with a given key from the dictionary?"
   ]
  },
  {
   "cell_type": "code",
   "execution_count": 17,
   "metadata": {},
   "outputs": [
    {
     "name": "stdout",
     "output_type": "stream",
     "text": [
      "Shubham\n"
     ]
    }
   ],
   "source": [
    "def getter(dict1, key1):\n",
    "    if key1 in dict1:\n",
    "        print(dict1[key1])\n",
    "    \n",
    "A = {\"Name\" : \"Shubham\",\n",
    "    \"Id\" : \"101\",\n",
    "    \"Phn No\" : \"9353281674\",\n",
    "    \"City\" : \"New Delhi\",\n",
    "    \"Dept\" : \"CSE\"}\n",
    "\n",
    "key = \"Name\"\n",
    "\n",
    "getter(A,key)"
   ]
  },
  {
   "cell_type": "markdown",
   "metadata": {},
   "source": [
    "8) How do you check whether a particular key/value exist in a dictionary?"
   ]
  },
  {
   "cell_type": "code",
   "execution_count": 25,
   "metadata": {},
   "outputs": [
    {
     "name": "stdout",
     "output_type": "stream",
     "text": [
      "Yes Exist in Dictionary\n",
      "Not Exist in Dictionary\n"
     ]
    }
   ],
   "source": [
    "def getter(dict1, keys, values):\n",
    "        if keys in dict1.keys():\n",
    "            if values in dict1.values():\n",
    "                print(\"Yes Exist in Dictionary\")\n",
    "            else:\n",
    "                print(\"Not Exist in Dictionary\")\n",
    "    \n",
    "    \n",
    "A = {\"Name\" : \"Shubham\",\n",
    "    \"Id\" : \"101\",\n",
    "    \"Phn No\" : \"9353281674\",\n",
    "    \"City\" : \"New Delhi\",\n",
    "    \"Dept\" : \"CSE\"}\n",
    "\n",
    "key1 = \"Id\"\n",
    "value1 = \"101\"\n",
    "\n",
    "key2 = \"Id\"\n",
    "value2 = \"109\"\n",
    "\n",
    "\n",
    "getter(A,key1,value1)\n",
    "getter(A,key2,value2)"
   ]
  },
  {
   "cell_type": "markdown",
   "metadata": {},
   "source": [
    "9) How do you find out the number of key-value dictionarypings present in a dictionary?"
   ]
  },
  {
   "cell_type": "code",
   "execution_count": 40,
   "metadata": {},
   "outputs": [
    {
     "name": "stdout",
     "output_type": "stream",
     "text": [
      "5\n"
     ]
    }
   ],
   "source": [
    "def counter(dict1):\n",
    "    count = 0\n",
    "    for key in dict1.keys():\n",
    "        count += 1\n",
    "    print(count)\n",
    "    \n",
    "A = {\"Name\" : \"Shubham\",\n",
    "    \"Id\" : \"101\",\n",
    "    \"Phn No\" : \"9353281674\",\n",
    "    \"City\" : \"New Delhi\",\n",
    "    \"Dept\" : \"CSE\"}\n",
    "\n",
    "counter(A)"
   ]
  },
  {
   "cell_type": "markdown",
   "metadata": {},
   "source": [
    "10) How do you remove all key-value pairs from a dictionary? OR How do you clear the dictionary for reuse?"
   ]
  },
  {
   "cell_type": "code",
   "execution_count": 54,
   "metadata": {},
   "outputs": [
    {
     "name": "stdout",
     "output_type": "stream",
     "text": [
      "Before Deletion {'Name': 'Shubham', 'Id': '101', 'Phn No': '9353281674', 'City': 'New Delhi', 'Dept': 'CSE'}\n",
      "After Deletion {}\n"
     ]
    }
   ],
   "source": [
    "def remove(dict1):\n",
    "    print(\"Before Deletion\", dict1)\n",
    "    dict1.clear()\n",
    "    print(\"After Deletion\",dict1)\n",
    "    \n",
    "A = {\"Name\" : \"Shubham\",\n",
    "    \"Id\" : \"101\",\n",
    "    \"Phn No\" : \"9353281674\",\n",
    "    \"City\" : \"New Delhi\",\n",
    "    \"Dept\" : \"CSE\"}\n",
    "\n",
    "remove(A)"
   ]
  },
  {
   "cell_type": "markdown",
   "metadata": {},
   "source": [
    "11) How do you retrieve all keys and values present in a dictionary?"
   ]
  },
  {
   "cell_type": "code",
   "execution_count": 55,
   "metadata": {},
   "outputs": [
    {
     "name": "stdout",
     "output_type": "stream",
     "text": [
      "Name  ====>>> Shubham\n",
      "Id  ====>>> 101\n",
      "Phn No  ====>>> 9353281674\n",
      "City  ====>>> New Delhi\n",
      "Dept  ====>>> CSE\n"
     ]
    }
   ],
   "source": [
    "def retriever(dict1):\n",
    "    for key,values in dict1.items():\n",
    "        print(key, \" ====>>>\",values)\n",
    "    \n",
    "A = {\"Name\" : \"Shubham\",\n",
    "    \"Id\" : \"101\",\n",
    "    \"Phn No\" : \"9353281674\",\n",
    "    \"City\" : \"New Delhi\",\n",
    "    \"Dept\" : \"CSE\"}\n",
    "\n",
    "retriever(A)"
   ]
  },
  {
   "cell_type": "markdown",
   "metadata": {},
   "source": [
    "12) How do you remove a key-value pair from the dictionary?"
   ]
  },
  {
   "cell_type": "code",
   "execution_count": 56,
   "metadata": {},
   "outputs": [
    {
     "name": "stdout",
     "output_type": "stream",
     "text": [
      "Before Deletion {'Name': 'Shubham', 'Id': '101', 'Phn No': '9353281674', 'City': 'New Delhi', 'Dept': 'CSE'}\n",
      "After Deletion {'Name': 'Shubham', 'Id': '101', 'Phn No': '9353281674', 'Dept': 'CSE'}\n"
     ]
    }
   ],
   "source": [
    "def remove(dict1,keys,values):\n",
    "    print(\"Before Deletion\", dict1)\n",
    "    if keys in dict1.keys():\n",
    "            if values in dict1.values():\n",
    "                del dict1[keys]\n",
    "    print(\"After Deletion\",dict1)\n",
    "    \n",
    "A = {\"Name\" : \"Shubham\",\n",
    "    \"Id\" : \"101\",\n",
    "    \"Phn No\" : \"9353281674\",\n",
    "    \"City\" : \"New Delhi\",\n",
    "    \"Dept\" : \"CSE\"}\n",
    "\n",
    "key1 = \"City\"\n",
    "value1 = \"New Delhi\"\n",
    "\n",
    "\n",
    "remove(A,key1,value1)"
   ]
  },
  {
   "cell_type": "markdown",
   "metadata": {},
   "source": [
    "13) How do you remove a key-value pair from a dictionary if and only if the specified key is currently dictionary to given value?"
   ]
  },
  {
   "cell_type": "code",
   "execution_count": 57,
   "metadata": {},
   "outputs": [
    {
     "name": "stdout",
     "output_type": "stream",
     "text": [
      "Before Deletion {'Name': 'Shubham', 'Id': '101', 'Phn No': '9353281674', 'City': 'New Delhi', 'Dept': 'CSE'}\n",
      "After Deletion {'Name': 'Shubham', 'Id': '101', 'City': 'New Delhi', 'Dept': 'CSE'}\n"
     ]
    }
   ],
   "source": [
    "def remove(dict1,keys,values):\n",
    "    print(\"Before Deletion\", dict1)\n",
    "    if keys in dict1.keys():\n",
    "            if values in dict1.values():\n",
    "                del dict1[keys]\n",
    "    print(\"After Deletion\",dict1)\n",
    "    \n",
    "A = {\"Name\" : \"Shubham\",\n",
    "    \"Id\" : \"101\",\n",
    "    \"Phn No\" : \"9353281674\",\n",
    "    \"City\" : \"New Delhi\",\n",
    "    \"Dept\" : \"CSE\"}\n",
    "\n",
    "key1 = \"Phn No\"\n",
    "value1 = \"9353281674\"\n",
    "\n",
    "\n",
    "remove(A,key1,value1)"
   ]
  },
  {
   "cell_type": "markdown",
   "metadata": {},
   "source": [
    "14) How do you replace a value associated with a given key in the dictionary?"
   ]
  },
  {
   "cell_type": "code",
   "execution_count": 59,
   "metadata": {},
   "outputs": [
    {
     "name": "stdout",
     "output_type": "stream",
     "text": [
      "Before Replacement {'Name': 'Shubham', 'Id': '101', 'Phn No': '9353281674', 'City': 'New Delhi', 'Dept': 'CSE'}\n",
      "After Replacement {'Name': 'Shubham', 'Id': '101', 'Phn No': '9353281674', 'City': 'New Delhi', 'Dept': 'ECE'}\n"
     ]
    }
   ],
   "source": [
    "def replace(dict1,keys):\n",
    "    print(\"Before Replacement\", dict1)\n",
    "    if keys in dict1.keys():\n",
    "        dict1[keys] = \"ECE\"\n",
    "    print(\"After Replacement\",dict1)\n",
    "    \n",
    "A = {\"Name\" : \"Shubham\",\n",
    "    \"Id\" : \"101\",\n",
    "    \"Phn No\" : \"9353281674\",\n",
    "    \"City\" : \"New Delhi\",\n",
    "    \"Dept\" : \"CSE\"}\n",
    "\n",
    "key1 = \"Dept\"\n",
    "\n",
    "replace(A,key1)"
   ]
  },
  {
   "cell_type": "markdown",
   "metadata": {},
   "source": [
    "15) How do you replace a value associated with the given key if and only if it is currently dictionary to given value?"
   ]
  },
  {
   "cell_type": "code",
   "execution_count": 60,
   "metadata": {},
   "outputs": [
    {
     "name": "stdout",
     "output_type": "stream",
     "text": [
      "Before Replacement {'Name': 'Shubham', 'Id': '101', 'Phn No': '9353281674', 'City': 'New Delhi', 'Dept': 'CSE'}\n",
      "After Replacement {'Name': 'Shubham', 'Id': '101', 'Phn No': '9353281674', 'City': 'Bangalore', 'Dept': 'CSE'}\n"
     ]
    }
   ],
   "source": [
    "def replace(dict1,keys):\n",
    "    print(\"Before Replacement\", dict1)\n",
    "    if keys in dict1.keys():\n",
    "        dict1[keys] = \"Bangalore\"\n",
    "    print(\"After Replacement\",dict1)\n",
    "    \n",
    "A = {\"Name\" : \"Shubham\",\n",
    "    \"Id\" : \"101\",\n",
    "    \"Phn No\" : \"9353281674\",\n",
    "    \"City\" : \"New Delhi\",\n",
    "    \"Dept\" : \"CSE\"}\n",
    "\n",
    "key1 = \"City\"\n",
    "\n",
    "replace(A,key1)"
   ]
  },
  {
   "cell_type": "markdown",
   "metadata": {},
   "source": [
    "16) how to replace the key from value and value from key in dictionary ?"
   ]
  },
  {
   "cell_type": "code",
   "execution_count": 71,
   "metadata": {},
   "outputs": [
    {
     "name": "stdout",
     "output_type": "stream",
     "text": [
      "Before Swapping {'Name': 'Shubham', 'Id': 101, 'Phn No': 9353281674, 'City': 'New Delhi'}\n",
      "After Swapping {'Shubham': 'Name', 101: 'Id', 9353281674: 'Phn No', 'New Delhi': 'City'}\n"
     ]
    }
   ],
   "source": [
    "def swap(dict1):\n",
    "    print(\"Before Swapping\", dict1)\n",
    "    swap_dict = dict([(value, key) for key, value in dict1.items()])\n",
    "    print(\"After Swapping\", swap_dict)\n",
    "    \n",
    "A = {\"Name\" : \"Shubham\",\n",
    "    \"Id\" : 101,\n",
    "    \"Phn No\" : 9353281674,\n",
    "    \"City\" : \"New Delhi\"}\n",
    "\n",
    "swap(A)"
   ]
  },
  {
   "cell_type": "markdown",
   "metadata": {},
   "source": [
    "17) How can i add same key and values as a list using Python ?"
   ]
  },
  {
   "cell_type": "code",
   "execution_count": 74,
   "metadata": {},
   "outputs": [
    {
     "name": "stdout",
     "output_type": "stream",
     "text": [
      "{'Name': 'Shubham', 'Age': '23', 'Dept': 'CSE', 'Grades': 'A+'}\n"
     ]
    }
   ],
   "source": [
    "def list_to_dict(lst1,lst2):\n",
    "    new_dict = dict(zip(lst1,lst2))\n",
    "    print(new_dict)\n",
    "    \n",
    "A = [\"Name\",\"Age\",\"Dept\",\"Grades\"]\n",
    "B = [\"Shubham\",\"23\",\"CSE\",\"A+\"]\n",
    "\n",
    "list_to_dict(A,B)"
   ]
  }
 ],
 "metadata": {
  "kernelspec": {
   "display_name": "Python 3",
   "language": "python",
   "name": "python3"
  },
  "language_info": {
   "codemirror_mode": {
    "name": "ipython",
    "version": 3
   },
   "file_extension": ".py",
   "mimetype": "text/x-python",
   "name": "python",
   "nbconvert_exporter": "python",
   "pygments_lexer": "ipython3",
   "version": "3.8.3"
  }
 },
 "nbformat": 4,
 "nbformat_minor": 4
}
