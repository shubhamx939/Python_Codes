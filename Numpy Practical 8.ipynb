{
 "cells": [
  {
   "cell_type": "markdown",
   "metadata": {},
   "source": [
    "# Rndom Sampling using random library"
   ]
  },
  {
   "cell_type": "code",
   "execution_count": 1,
   "metadata": {},
   "outputs": [],
   "source": [
    "import numpy as np\n",
    "import random"
   ]
  },
  {
   "cell_type": "code",
   "execution_count": 2,
   "metadata": {},
   "outputs": [
    {
     "name": "stdout",
     "output_type": "stream",
     "text": [
      "[0.44263669]\n"
     ]
    }
   ],
   "source": [
    "arr = np.random.random(1)\n",
    "print(arr)"
   ]
  },
  {
   "cell_type": "code",
   "execution_count": 3,
   "metadata": {},
   "outputs": [
    {
     "data": {
      "text/plain": [
       "array([0.04691723])"
      ]
     },
     "execution_count": 3,
     "metadata": {},
     "output_type": "execute_result"
    }
   ],
   "source": [
    "np.random.random(1)"
   ]
  },
  {
   "cell_type": "code",
   "execution_count": 4,
   "metadata": {},
   "outputs": [
    {
     "data": {
      "text/plain": [
       "array([[0.71299207, 0.37912673, 0.97311676, 0.09813978],\n",
       "       [0.43347492, 0.3776797 , 0.14427783, 0.28174108],\n",
       "       [0.6764823 , 0.95222393, 0.01500358, 0.29607769]])"
      ]
     },
     "execution_count": 4,
     "metadata": {},
     "output_type": "execute_result"
    }
   ],
   "source": [
    "np.random.random((3,4))"
   ]
  },
  {
   "cell_type": "code",
   "execution_count": 5,
   "metadata": {},
   "outputs": [
    {
     "data": {
      "text/plain": [
       "2"
      ]
     },
     "execution_count": 5,
     "metadata": {},
     "output_type": "execute_result"
    }
   ],
   "source": [
    "np.random.randint(1,5)"
   ]
  },
  {
   "cell_type": "code",
   "execution_count": 6,
   "metadata": {},
   "outputs": [
    {
     "data": {
      "text/plain": [
       "array([[152343, 209338, 719509, 424866, 876400, 599487, 323084, 694395,\n",
       "        359662, 568742],\n",
       "       [199690, 945221, 556998, 470601, 673264, 573077, 489483, 706626,\n",
       "        691426, 306447],\n",
       "       [751712, 782442, 731196, 675738, 176397, 786940, 355549, 547218,\n",
       "        157646, 185409],\n",
       "       [193579, 904658, 237135, 987961, 255430, 912011, 286864, 425921,\n",
       "        228372, 585795],\n",
       "       [155833, 733798, 896328, 269728, 433949, 103844, 777772, 166943,\n",
       "        983591, 217102],\n",
       "       [257601, 259209, 961502, 875721, 141935, 998535, 371238, 717408,\n",
       "        543076, 526165],\n",
       "       [652599, 657983, 923971, 880623, 520183, 459604, 885410, 930212,\n",
       "        569401, 187682],\n",
       "       [555062, 899876, 818193, 608474, 984132, 744563, 380087, 828447,\n",
       "        827778, 494577],\n",
       "       [322512, 743822, 868554, 332457, 367824, 528088, 666603, 330118,\n",
       "        778635, 954653],\n",
       "       [840806, 497495, 285552, 702516, 436015, 803226, 672386, 391598,\n",
       "        846496, 548127]])"
      ]
     },
     "execution_count": 6,
     "metadata": {},
     "output_type": "execute_result"
    }
   ],
   "source": [
    "np.random.randint(100000,999999, (10,10))"
   ]
  },
  {
   "cell_type": "code",
   "execution_count": 7,
   "metadata": {},
   "outputs": [
    {
     "data": {
      "text/plain": [
       "array([[[9849, 4261, 1742, 7748, 6271, 4426],\n",
       "        [5486, 7713, 9654, 3547, 5713, 1667],\n",
       "        [6030, 5977, 6202, 1842, 6800, 5045],\n",
       "        [5248, 6667, 4072, 9010, 9251, 3177]],\n",
       "\n",
       "       [[7991, 8075, 8749, 6098, 3508, 8669],\n",
       "        [6129, 2101, 1131, 6951, 8183, 4064],\n",
       "        [2980, 5611, 7027, 8438, 3799, 3542],\n",
       "        [2171, 7482, 3116, 9000, 7634, 7638]]])"
      ]
     },
     "execution_count": 7,
     "metadata": {},
     "output_type": "execute_result"
    }
   ],
   "source": [
    "np.random.randint(1000,9999, (2,4,6))"
   ]
  },
  {
   "cell_type": "code",
   "execution_count": 8,
   "metadata": {},
   "outputs": [
    {
     "data": {
      "text/plain": [
       "array([[445353, 860957, 981167, 543712, 717841, 205595, 633660, 399741,\n",
       "        904336, 208445],\n",
       "       [378385, 240296, 895721, 810912, 852106, 980680, 345156, 203952,\n",
       "        940036, 280463],\n",
       "       [675883, 922616, 619531, 631578, 525505, 424808, 845316, 649838,\n",
       "        703825, 312659],\n",
       "       [570070, 574565, 374445, 500115, 444473, 805918, 313645, 792060,\n",
       "        363510, 161214],\n",
       "       [885054, 763641, 856364, 861153, 491711, 655833, 953796, 673723,\n",
       "        128178, 304893],\n",
       "       [997101, 421942, 303671, 397566, 799128, 645163, 965948, 508650,\n",
       "        719736, 435241],\n",
       "       [646831, 316594, 799856, 313622, 939000, 392235, 167217, 191566,\n",
       "        297767, 385387],\n",
       "       [649660, 294004, 938394, 574976, 247500, 790821, 970404, 487143,\n",
       "        992248, 138744],\n",
       "       [830930, 371724, 435030, 733122, 575496, 410031, 607341, 151855,\n",
       "        938653, 831270],\n",
       "       [953238, 905461, 360842, 291126, 224427, 532752, 448940, 825472,\n",
       "        419550, 429206]])"
      ]
     },
     "execution_count": 8,
     "metadata": {},
     "output_type": "execute_result"
    }
   ],
   "source": [
    "np.random.seed(10)\n",
    "np.random.randint(100000,999999, (10,10))"
   ]
  },
  {
   "cell_type": "code",
   "execution_count": 9,
   "metadata": {},
   "outputs": [
    {
     "data": {
      "text/plain": [
       "array([[705129, 957295, 302552, 764324, 181968],\n",
       "       [163856, 666392, 885827, 581980, 801026],\n",
       "       [426385, 210794, 494862, 125023, 138316],\n",
       "       [674269, 508829, 616329, 116118, 856016],\n",
       "       [889742, 209412, 727686, 274676, 443355]])"
      ]
     },
     "execution_count": 9,
     "metadata": {},
     "output_type": "execute_result"
    }
   ],
   "source": [
    "np.random.seed(21)\n",
    "np.random.randint(100000,999999, (5,5))"
   ]
  },
  {
   "cell_type": "code",
   "execution_count": 10,
   "metadata": {},
   "outputs": [
    {
     "data": {
      "text/plain": [
       "array([[445353, 860957, 981167, 543712, 717841, 205595, 633660, 399741,\n",
       "        904336, 208445],\n",
       "       [378385, 240296, 895721, 810912, 852106, 980680, 345156, 203952,\n",
       "        940036, 280463],\n",
       "       [675883, 922616, 619531, 631578, 525505, 424808, 845316, 649838,\n",
       "        703825, 312659],\n",
       "       [570070, 574565, 374445, 500115, 444473, 805918, 313645, 792060,\n",
       "        363510, 161214],\n",
       "       [885054, 763641, 856364, 861153, 491711, 655833, 953796, 673723,\n",
       "        128178, 304893],\n",
       "       [997101, 421942, 303671, 397566, 799128, 645163, 965948, 508650,\n",
       "        719736, 435241],\n",
       "       [646831, 316594, 799856, 313622, 939000, 392235, 167217, 191566,\n",
       "        297767, 385387],\n",
       "       [649660, 294004, 938394, 574976, 247500, 790821, 970404, 487143,\n",
       "        992248, 138744],\n",
       "       [830930, 371724, 435030, 733122, 575496, 410031, 607341, 151855,\n",
       "        938653, 831270],\n",
       "       [953238, 905461, 360842, 291126, 224427, 532752, 448940, 825472,\n",
       "        419550, 429206]])"
      ]
     },
     "execution_count": 10,
     "metadata": {},
     "output_type": "execute_result"
    }
   ],
   "source": [
    "np.random.seed(10)\n",
    "np.random.randint(100000,999999, (10,10))"
   ]
  },
  {
   "cell_type": "code",
   "execution_count": 11,
   "metadata": {},
   "outputs": [
    {
     "data": {
      "text/plain": [
       "array([[705129, 957295, 302552, 764324, 181968],\n",
       "       [163856, 666392, 885827, 581980, 801026],\n",
       "       [426385, 210794, 494862, 125023, 138316],\n",
       "       [674269, 508829, 616329, 116118, 856016],\n",
       "       [889742, 209412, 727686, 274676, 443355]])"
      ]
     },
     "execution_count": 11,
     "metadata": {},
     "output_type": "execute_result"
    }
   ],
   "source": [
    "np.random.seed(21)\n",
    "np.random.randint(100000,999999, (5,5))"
   ]
  },
  {
   "cell_type": "code",
   "execution_count": 12,
   "metadata": {},
   "outputs": [
    {
     "data": {
      "text/plain": [
       "array([0.42572943, 0.96701234, 0.28204171])"
      ]
     },
     "execution_count": 12,
     "metadata": {},
     "output_type": "execute_result"
    }
   ],
   "source": [
    "np.random.rand(3)"
   ]
  },
  {
   "cell_type": "code",
   "execution_count": 13,
   "metadata": {},
   "outputs": [
    {
     "data": {
      "text/plain": [
       "array([[0.58215916, 0.49947697, 0.29106427],\n",
       "       [0.5698933 , 0.87576259, 0.9264645 ],\n",
       "       [0.95695305, 0.2927576 , 0.23259317],\n",
       "       [0.26696986, 0.08517213, 0.75085542]])"
      ]
     },
     "execution_count": 13,
     "metadata": {},
     "output_type": "execute_result"
    }
   ],
   "source": [
    "np.random.rand(4,3)"
   ]
  },
  {
   "cell_type": "code",
   "execution_count": 14,
   "metadata": {},
   "outputs": [
    {
     "data": {
      "text/plain": [
       "array([ 1.46843073, -1.57759274, -0.33332448, -1.14080155])"
      ]
     },
     "execution_count": 14,
     "metadata": {},
     "output_type": "execute_result"
    }
   ],
   "source": [
    "np.random.randn(4)"
   ]
  },
  {
   "cell_type": "code",
   "execution_count": 15,
   "metadata": {},
   "outputs": [
    {
     "data": {
      "text/plain": [
       "array([[ 0.18600019,  1.3838356 , -0.56470433,  1.43021653,  0.43183952,\n",
       "         0.37345132],\n",
       "       [ 2.36003641,  0.47940186, -0.75098688,  0.68816325,  0.25394905,\n",
       "         0.37327912],\n",
       "       [ 1.20615504, -0.2784506 , -0.83695257,  1.46791738,  1.52534912,\n",
       "         0.63780229],\n",
       "       [ 0.69187471, -1.56752533, -1.12203431,  0.00845602, -1.07848279,\n",
       "         1.85915999],\n",
       "       [ 0.25098143, -0.11167111,  1.12606814,  0.92215289, -0.7352208 ,\n",
       "        -0.18933449]])"
      ]
     },
     "execution_count": 15,
     "metadata": {},
     "output_type": "execute_result"
    }
   ],
   "source": [
    "np.random.randn(5,6)"
   ]
  },
  {
   "cell_type": "code",
   "execution_count": 16,
   "metadata": {},
   "outputs": [
    {
     "data": {
      "text/plain": [
       "10"
      ]
     },
     "execution_count": 16,
     "metadata": {},
     "output_type": "execute_result"
    }
   ],
   "source": [
    "list = [1,2,3,4,5,6,7,8,9,10]\n",
    "\n",
    "np.random.choice(list)"
   ]
  },
  {
   "cell_type": "code",
   "execution_count": 17,
   "metadata": {},
   "outputs": [
    {
     "data": {
      "text/plain": [
       "array([ 3,  1,  9,  5,  6,  7,  8, 10,  4,  2])"
      ]
     },
     "execution_count": 17,
     "metadata": {},
     "output_type": "execute_result"
    }
   ],
   "source": [
    "np.random.permutation(list)"
   ]
  }
 ],
 "metadata": {
  "kernelspec": {
   "display_name": "Python 3",
   "language": "python",
   "name": "python3"
  },
  "language_info": {
   "codemirror_mode": {
    "name": "ipython",
    "version": 3
   },
   "file_extension": ".py",
   "mimetype": "text/x-python",
   "name": "python",
   "nbconvert_exporter": "python",
   "pygments_lexer": "ipython3",
   "version": "3.8.3"
  }
 },
 "nbformat": 4,
 "nbformat_minor": 4
}
